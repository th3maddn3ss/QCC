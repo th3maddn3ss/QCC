
{
 "cells": [
  {
   "cell_type": "markdown",
   "metadata": {},
   "source": [
    "# Quantum Coherence Cosmology (QCC) - CAMB-style Example\n",
    "This notebook demonstrates how to use the CAMB-style QCCModel class to generate the coherence kernel and project it onto a sample redshift array."
   ]
  },
  {
   "cell_type": "code",
   "execution_count": null,
   "metadata": {},
   "outputs": [],
   "source": [
    "# Import the QCC model class\n",
    "from qcc_camb_style import QCCModel\n",
    "import numpy as np\n",
    "import matplotlib.pyplot as plt"
   ]
  },
  {
   "cell_type": "code",
   "execution_count": null,
   "metadata": {},
   "outputs": [],
   "source": [
    "# Initialize the model\n",
    "qcc = QCCModel()"
   ]
  },
  {
   "cell_type": "code",
   "execution_count": null,
   "metadata": {},
   "outputs": [],
   "source": [
    "# Access kernel data\n",
    "data = qcc.get_kernel_data()\n",
    "z = data['z']\n",
    "kernel = data['kernel']\n",
    "phi = data['phi']"
   ]
  },
  {
   "cell_type": "code",
   "execution_count": null,
   "metadata": {},
   "outputs": [],
   "source": [
    "# Plot the kernel and phi\n",
    "plt.figure(figsize=(10, 5))\n",
    "plt.plot(z, kernel, label=r"$\\phi'^2 + \\phi''^2$", color='blue')\n",
    "plt.plot(z, phi, label=r"$\\phi(z)$", color='orange', linestyle='--')\n",
    "plt.xlabel("Redshift z")\n",
    "plt.ylabel("Amplitude")\n",
    "plt.title("QCC Field and Coherence Kernel")\n",
    "plt.legend()\n",
    "plt.grid(True)\n",
    "plt.show()"
   ]
  },
  {
   "cell_type": "code",
   "execution_count": null,
   "metadata": {},
   "outputs": [],
   "source": [
    "# Project kernel onto a custom z-array\n",
    "z_test = np.linspace(0.1, 2.0, 100)\n",
    "projected_kernel = qcc.project_kernel(z_test)\n",
    "plt.plot(z_test, projected_kernel, label="Projected Kernel")\n",
    "plt.xlabel("z")\n",
    "plt.ylabel("Kernel Value")\n",
    "plt.title("Kernel Projection onto z")\n",
    "plt.grid(True)\n",
    "plt.legend()\n",
    "plt.show()"
   ]
  }
 ],
 "metadata": {
  "kernelspec": {
   "display_name": "Python 3",
   "language": "python",
   "name": "python3"
  },
  "language_info": {
   "name": "python",
   "version": ""
  }
 },
 "nbformat": 4,
 "nbformat_minor": 5
}
