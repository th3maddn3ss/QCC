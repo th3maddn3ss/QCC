{
 "cells": [
  {
   "cell_type": "markdown",
   "id": "26845279",
   "metadata": {},
   "source": [
    "# Quantum Coherence Cosmology (QCC) Model — Example Notebook\n",
    "\n",
    "This notebook demonstrates how to use the `QCCModel` class from the `qcc_model_v2.py` module, similar to CAMB."
   ]
  },
  {
   "cell_type": "code",
   "execution_count": null,
   "id": "e2a626b3",
   "metadata": {},
   "outputs": [],
   "source": [
    "from qcc_model_v2 import QCCModel\n",
    "import matplotlib.pyplot as plt\n",
    "\n",
    "# Initialize model\n",
    "qcc = QCCModel(zmax=2.5, num_points=500)\n",
    "\n",
    "z = qcc.z\n",
    "phi = qcc.phi_vals\n",
    "phi_p = qcc.phi_prime_vals\n",
    "xi_plus = qcc.xi_plus()"
   ]
  },
  {
   "cell_type": "markdown",
   "id": "0414de02",
   "metadata": {},
   "source": [
    "## Plot the Coherence Field $\\phi(z)$"
   ]
  },
  {
   "cell_type": "code",
   "execution_count": null,
   "id": "297f2c99",
   "metadata": {},
   "outputs": [],
   "source": [
    "plt.figure(figsize=(8, 4))\n",
    "plt.plot(z, phi, label='φ(z)')\n",
    "plt.title('Quantum Coherence Field')\n",
    "plt.xlabel('Redshift z')\n",
    "plt.ylabel('φ(z)')\n",
    "plt.grid(True)\n",
    "plt.legend()\n",
    "plt.show()"
   ]
  },
  {
   "cell_type": "markdown",
   "id": "073a94e4",
   "metadata": {},
   "source": [
    "## Plot the Weak Lensing Analog $\\xi_+(z)$"
   ]
  },
  {
   "cell_type": "code",
   "execution_count": null,
   "id": "cdc41d54",
   "metadata": {},
   "outputs": [],
   "source": [
    "plt.figure(figsize=(8, 4))\n",
    "plt.plot(z, xi_plus, label='ξ₊(z)', color='darkorange')\n",
    "plt.title('Weak Lensing Projection')\n",
    "plt.xlabel('Redshift z')\n",
    "plt.ylabel('ξ₊(z)')\n",
    "plt.grid(True)\n",
    "plt.legend()\n",
    "plt.show()"
   ]
  },
  {
   "cell_type": "markdown",
   "id": "1b47c6a1",
   "metadata": {},
   "source": [
    "## Access Full Summary for Export or Analysis"
   ]
  },
  {
   "cell_type": "code",
   "execution_count": null,
   "id": "fa550b4c",
   "metadata": {},
   "outputs": [],
   "source": [
    "summary = qcc.export_summary()\n",
    "summary.keys()"
   ]
  }
 ],
 "metadata": {},
 "nbformat": 4,
 "nbformat_minor": 5
}